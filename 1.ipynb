{
 "cells": [
  {
   "cell_type": "code",
   "execution_count": 22,
   "metadata": {},
   "outputs": [
    {
     "name": "stdout",
     "output_type": "stream",
     "text": [
      "Training accuracy: 0.7632698672853631\n",
      "Validation accuracy: 0.7462365591397849\n",
      "F1 score: 0.8345021037868163\n"
     ]
    }
   ],
   "source": [
    "import numpy as np\n",
    "import pandas as pd\n",
    "from sklearn.model_selection import train_test_split\n",
    "from sklearn.feature_extraction.text import CountVectorizer, TfidfVectorizer\n",
    "from sklearn.model_selection import cross_val_score\n",
    "from sklearn.svm import LinearSVC\n",
    "from sklearn.metrics import accuracy_score, f1_score\n",
    "from sklearn.pipeline import Pipeline\n",
    "from sklearn import metrics\n",
    "\n",
    "train = pd.read_csv('train.csv')\n",
    "train.rating = np.where(train.rating > 6, 1, 0) \n",
    "train['review'] = train['benefits_review'] + ' ' + train['side_effects_review'] + ' ' + train['comments_review']\n",
    "\n",
    "train_X = train.loc[:, ['review']]\n",
    "train_y = train.rating\n",
    "X_train, X_test, y_train, y_test = train_test_split(train_X, train_y, test_size=0.3, stratify=train_y)\n",
    "X_train_docs = [doc for doc in X_train.review]\n",
    "pipeline = Pipeline([\n",
    "            ('vect', TfidfVectorizer(ngram_range=(1,2), \n",
    "                                    stop_words='english')),\n",
    "            ('cls', LinearSVC())\n",
    "])\n",
    "pipeline.fit(X_train_docs, y_train)\n",
    "training_accuracy = cross_val_score(pipeline, X_train_docs, y_train, cv=5).mean()\n",
    "print(\"Training accuracy:\", training_accuracy)\n",
    "predicted = pipeline.predict([doc for doc in X_test.review])\n",
    "validation_accuracy = metrics.accuracy_score(y_test, predicted)\n",
    "f1_score = f1_score(y_test, predicted)\n",
    "print(\"Validation accuracy:\", validation_accuracy)\n",
    "print(\"F1 score:\", f1_score)"
   ]
  },
  {
   "cell_type": "code",
   "execution_count": 23,
   "metadata": {},
   "outputs": [
    {
     "name": "stdout",
     "output_type": "stream",
     "text": [
      "Training accuracy: 0.7701737955109035\n",
      "Validation accuracy: 0.7430107526881721\n",
      "F1 score: 0.8322807017543861\n"
     ]
    }
   ],
   "source": [
    "import numpy as np\n",
    "import pandas as pd\n",
    "from sklearn.model_selection import train_test_split\n",
    "from sklearn.feature_extraction.text import CountVectorizer, TfidfVectorizer\n",
    "from sklearn.model_selection import cross_val_score\n",
    "from sklearn.svm import LinearSVC\n",
    "from sklearn.metrics import accuracy_score, f1_score\n",
    "from sklearn.pipeline import Pipeline\n",
    "from sklearn import metrics\n",
    "\n",
    "train = pd.read_csv('train.csv')\n",
    "train.rating = np.where(train.rating > 6, 1, 0) \n",
    "train['review'] = train['benefits_review'] + ' ' + train['side_effects_review'] + ' ' + train['comments_review']\n",
    "\n",
    "# Convert text columns to lowercase\n",
    "train['review'] = train['review'].apply(lambda x: x.lower())\n",
    "\n",
    "train_X = train.loc[:, ['review']]\n",
    "train_y = train.rating\n",
    "X_train, X_test, y_train, y_test = train_test_split(train_X, train_y, test_size=0.3, stratify=train_y)\n",
    "X_train_docs = [doc for doc in X_train.review]\n",
    "pipeline = Pipeline([\n",
    "            ('vect', TfidfVectorizer(ngram_range=(1,2), \n",
    "                                    stop_words='english')),\n",
    "            ('cls', LinearSVC())\n",
    "])\n",
    "pipeline.fit(X_train_docs, y_train)\n",
    "training_accuracy = cross_val_score(pipeline, X_train_docs, y_train, cv=5).mean()\n",
    "print(\"Training accuracy:\", training_accuracy)\n",
    "predicted = pipeline.predict([doc for doc in X_test.review])\n",
    "validation_accuracy = metrics.accuracy_score(y_test, predicted)\n",
    "f1_score = f1_score(y_test, predicted)\n",
    "print(\"Validation accuracy:\", validation_accuracy)\n",
    "print(\"F1 score:\", f1_score)"
   ]
  },
  {
   "cell_type": "code",
   "execution_count": 26,
   "metadata": {},
   "outputs": [
    {
     "name": "stdout",
     "output_type": "stream",
     "text": [
      "Training accuracy: 0.7604963761560647\n",
      "Validation accuracy: 0.7741935483870968\n",
      "F1 score: 0.8506401137980085\n"
     ]
    }
   ],
   "source": [
    "import numpy as np\n",
    "import pandas as pd\n",
    "from sklearn.model_selection import train_test_split\n",
    "from sklearn.feature_extraction.text import CountVectorizer, TfidfVectorizer\n",
    "from sklearn.model_selection import cross_val_score\n",
    "from sklearn.svm import LinearSVC\n",
    "from sklearn.metrics import accuracy_score, f1_score\n",
    "from sklearn.pipeline import Pipeline\n",
    "from sklearn import metrics\n",
    "import re\n",
    "\n",
    "train = pd.read_csv('train.csv')\n",
    "train.rating = np.where(train.rating > 6, 1, 0) \n",
    "train['review'] = train['benefits_review'] + ' ' + train['side_effects_review'] + ' ' + train['comments_review']\n",
    "\n",
    "# Convert text columns to lowercase\n",
    "train['review'] = train['review'].apply(lambda x: x.lower())\n",
    "\n",
    "# remove numbers from text\n",
    "def remove_numbers(text):\n",
    "    return re.sub(r'\\d+', '', text)\n",
    "\n",
    "train['review'] = train['review'].apply(remove_numbers)\n",
    "\n",
    "train_X = train.loc[:, ['review']]\n",
    "train_y = train.rating\n",
    "X_train, X_test, y_train, y_test = train_test_split(train_X, train_y, test_size=0.3, stratify=train_y)\n",
    "X_train_docs = [doc for doc in X_train.review]\n",
    "pipeline = Pipeline([\n",
    "            ('vect', TfidfVectorizer(ngram_range=(1,2), \n",
    "                                    stop_words='english')),\n",
    "            ('cls', LinearSVC())\n",
    "])\n",
    "pipeline.fit(X_train_docs, y_train)\n",
    "training_accuracy = cross_val_score(pipeline, X_train_docs, y_train, cv=5).mean()\n",
    "print(\"Training accuracy:\", training_accuracy)\n",
    "predicted = pipeline.predict([doc for doc in X_test.review])\n",
    "validation_accuracy = metrics.accuracy_score(y_test, predicted)\n",
    "f1_score = f1_score(y_test, predicted)\n",
    "print(\"Validation accuracy:\", validation_accuracy)\n",
    "print(\"F1 score:\", f1_score)"
   ]
  },
  {
   "cell_type": "code",
   "execution_count": 28,
   "metadata": {},
   "outputs": [
    {
     "name": "stdout",
     "output_type": "stream",
     "text": [
      "test accuracy 0.7712355212355212\n"
     ]
    }
   ],
   "source": [
    "# test\n",
    "test = df = pd.read_csv(\"test.csv\")\n",
    "\n",
    "# preprossing\n",
    "test.rating = np.where(test.rating > 6, 1, 0) \n",
    "test['review'] = test['benefits_review'] + ' ' + test['side_effects_review'] + ' ' + test['comments_review']\n",
    "\n",
    "test['review'] = test['review'].apply(lambda x: x.lower())\n",
    "\n",
    "def remove_numbers(text):\n",
    "    return re.sub(r'\\d+', '', text)\n",
    "\n",
    "test['review'] = test['review'].apply(remove_numbers)\n",
    "\n",
    "predicted_test = pipeline.predict([doc for doc in test.review])\n",
    "print(\"test accuracy\", accuracy_score(test.rating, predicted_test))"
   ]
  }
 ],
 "metadata": {
  "kernelspec": {
   "display_name": "base",
   "language": "python",
   "name": "python3"
  },
  "language_info": {
   "codemirror_mode": {
    "name": "ipython",
    "version": 3
   },
   "file_extension": ".py",
   "mimetype": "text/x-python",
   "name": "python",
   "nbconvert_exporter": "python",
   "pygments_lexer": "ipython3",
   "version": "3.9.13"
  },
  "orig_nbformat": 4
 },
 "nbformat": 4,
 "nbformat_minor": 2
}
